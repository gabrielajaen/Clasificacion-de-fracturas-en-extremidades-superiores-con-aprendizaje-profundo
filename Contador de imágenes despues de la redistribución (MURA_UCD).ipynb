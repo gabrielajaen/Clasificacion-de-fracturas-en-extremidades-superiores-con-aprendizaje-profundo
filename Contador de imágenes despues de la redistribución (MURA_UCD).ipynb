{
  "cells": [
    {
      "cell_type": "code",
      "execution_count": null,
      "id": "6f00e0b6-ef8d-4503-9fed-09b6d4b4c529",
      "metadata": {
        "id": "6f00e0b6-ef8d-4503-9fed-09b6d4b4c529",
        "outputId": "4c672f03-21a4-4b52-96da-c6f22cb28172"
      },
      "outputs": [
        {
          "name": "stdout",
          "output_type": "stream",
          "text": [
            "🖼 Total de imágenes en G:/Mi unidad/TESIS\\MURA_UCD: 40005\n"
          ]
        }
      ],
      "source": [
        "import os\n",
        "\n",
        "# Ruta de la carpeta original\n",
        "base_drive_path = \"G:/Mi unidad/TESIS\"  # Asegurar que esta ruta es correcta\n",
        "data_directory = os.path.join(base_drive_path, \"MURA_UCD\")\n",
        "\n",
        "def count_images(directory):\n",
        "    \"\"\"Cuenta todas las imágenes dentro del directorio dado.\"\"\"\n",
        "    total_images = 0\n",
        "    for root, _, files in os.walk(directory):\n",
        "        total_images += sum(1 for file in files if file.endswith(('.png', '.jpg', '.jpeg')))\n",
        "    return total_images\n",
        "\n",
        "# Contar imágenes en MURA-v1.1\n",
        "image_count = count_images(data_directory)\n",
        "print(f\"🖼 Total de imágenes en {data_directory}: {image_count}\")"
      ]
    },
    {
      "cell_type": "code",
      "execution_count": null,
      "id": "30bf2b3f-ecb0-49e2-a8da-c6fd62c706f9",
      "metadata": {
        "id": "30bf2b3f-ecb0-49e2-a8da-c6fd62c706f9",
        "outputId": "c56a85de-39e4-4377-c9b6-0df8c9df3c06"
      },
      "outputs": [
        {
          "name": "stdout",
          "output_type": "stream",
          "text": [
            "   Categoría  Normal_Train  Anormal_Train  Normal_Valid  Anormal_Valid\n",
            "0       Codo          2559           1773           601            463\n",
            "1       Dedo          2731           1778           621            437\n",
            "2  Antebrazo          1038            664           276            148\n",
            "3       Mano          3397           1347           933            326\n",
            "4     Húmero           646            589           175            150\n",
            "5     Hombro          3591           3541           905            905\n",
            "6     Muñeca          4890           3460          1239            822\n",
            "7      Total         18852          13152          4750           3251\n"
          ]
        }
      ],
      "source": [
        "import os\n",
        "import pandas as pd\n",
        "\n",
        "# Ruta base donde están los CSVs\n",
        "ruta_base = \"G:/Mi unidad/TESIS/MURA_UCD\"\n",
        "csv_train = os.path.join(ruta_base, \"train.csv\")\n",
        "csv_valid = os.path.join(ruta_base, \"valid.csv\")\n",
        "\n",
        "# Mapear nombres de carpetas a categorías legibles\n",
        "categorias_mapa = {\n",
        "    \"XR_ELBOW\": \"Codo\",\n",
        "    \"XR_FINGER\": \"Dedo\",\n",
        "    \"XR_FOREARM\": \"Antebrazo\",\n",
        "    \"XR_HAND\": \"Mano\",\n",
        "    \"XR_HUMERUS\": \"Húmero\",\n",
        "    \"XR_SHOULDER\": \"Hombro\",\n",
        "    \"XR_WRIST\": \"Muñeca\"\n",
        "}\n",
        "\n",
        "# Leer CSVs\n",
        "df_train = pd.read_csv(csv_train, names=[\"ruta\", \"etiqueta\"], skiprows=1)\n",
        "df_valid = pd.read_csv(csv_valid, names=[\"ruta\", \"etiqueta\"], skiprows=1)\n",
        "\n",
        "# Agregar columna de tipo de dataset\n",
        "df_train[\"split\"] = \"Train\"\n",
        "df_valid[\"split\"] = \"Valid\"\n",
        "\n",
        "# Unir ambos\n",
        "df = pd.concat([df_train, df_valid], ignore_index=True)\n",
        "\n",
        "# Extraer la categoría cruda desde la ruta (posición 5 del path)\n",
        "df[\"categoria_raw\"] = df[\"ruta\"].apply(lambda x: os.path.normpath(x).split(os.sep)[5])\n",
        "\n",
        "\n",
        "\n",
        "# Mapear a nombres legibles\n",
        "df[\"Categoría\"] = df[\"categoria_raw\"].map(categorias_mapa)\n",
        "\n",
        "# Asegurar que 'etiqueta' es entero\n",
        "df[\"etiqueta\"] = df[\"etiqueta\"].astype(int)\n",
        "\n",
        "# Inicializar el diccionario como en tu código original\n",
        "conteo = {\n",
        "    \"Categoría\": [],\n",
        "    \"Normal_Train\": [],\n",
        "    \"Anormal_Train\": [],\n",
        "    \"Normal_Valid\": [],\n",
        "    \"Anormal_Valid\": []\n",
        "}\n",
        "\n",
        "# Recorremos cada categoría en orden\n",
        "for key, nombre_categoria in categorias_mapa.items():\n",
        "    conteo[\"Categoría\"].append(nombre_categoria)\n",
        "\n",
        "    # Filtrar por categoría\n",
        "    subset = df[df[\"categoria_raw\"] == key]\n",
        "\n",
        "    # Conteos por split y etiqueta\n",
        "    for split in [\"Train\", \"Valid\"]:\n",
        "        subset_split = subset[subset[\"split\"] == split]\n",
        "        normales = subset_split[subset_split[\"etiqueta\"] == 0].shape[0]\n",
        "        anormales = subset_split[subset_split[\"etiqueta\"] == 1].shape[0]\n",
        "        conteo[f\"Normal_{split}\"].append(normales)\n",
        "        conteo[f\"Anormal_{split}\"].append(anormales)\n",
        "\n",
        "# Crear DataFrame\n",
        "df_conteo = pd.DataFrame(conteo)\n",
        "\n",
        "# Agregar fila de totales\n",
        "totales = [\"Total\"]\n",
        "for col in df_conteo.columns[1:]:\n",
        "    totales.append(df_conteo[col].sum())\n",
        "df_conteo.loc[len(df_conteo)] = totales\n",
        "\n",
        "# Mostrar la tabla\n",
        "print(df_conteo)\n",
        "\n",
        "# Guardar si querés\n",
        "df_conteo.to_csv(os.path.join(ruta_base, \"distribucion_MURA_desde_csv.csv\"), index=False)\n",
        "# df_conteo.to_latex(index=False)  # si querés pegarlo en tu tesis\n"
      ]
    },
    {
      "cell_type": "code",
      "execution_count": null,
      "id": "646ec6e5-f062-4c12-9e30-b28ccfeb944a",
      "metadata": {
        "id": "646ec6e5-f062-4c12-9e30-b28ccfeb944a"
      },
      "outputs": [],
      "source": []
    }
  ],
  "metadata": {
    "kernelspec": {
      "display_name": "Python 3 (ipykernel)",
      "language": "python",
      "name": "python3"
    },
    "language_info": {
      "codemirror_mode": {
        "name": "ipython",
        "version": 3
      },
      "file_extension": ".py",
      "mimetype": "text/x-python",
      "name": "python",
      "nbconvert_exporter": "python",
      "pygments_lexer": "ipython3",
      "version": "3.8.20"
    },
    "colab": {
      "provenance": []
    }
  },
  "nbformat": 4,
  "nbformat_minor": 5
}